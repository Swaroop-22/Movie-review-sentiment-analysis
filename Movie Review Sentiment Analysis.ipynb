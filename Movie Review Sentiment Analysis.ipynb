{
 "cells": [
  {
   "cell_type": "markdown",
   "id": "11867d16",
   "metadata": {},
   "source": [
    "# Importing Dependencies"
   ]
  },
  {
   "cell_type": "code",
   "execution_count": 1,
   "id": "ae0aa2d6",
   "metadata": {},
   "outputs": [
    {
     "name": "stderr",
     "output_type": "stream",
     "text": [
      "C:\\Users\\Swaroop Honrao\\Python\\Python370\\lib\\importlib\\_bootstrap.py:219: RuntimeWarning: numpy.ufunc size changed, may indicate binary incompatibility. Expected 192 from C header, got 216 from PyObject\n",
      "  return f(*args, **kwds)\n"
     ]
    }
   ],
   "source": [
    "#Importing Library\n",
    "import pandas as pd\n",
    "import numpy as np\n",
    "import re\n",
    "import pickle\n",
    "\n",
    "#Importing Natural Language Toolkit Libraries\n",
    "from nltk.corpus import stopwords\n",
    "from nltk.tokenize import word_tokenize\n",
    "from nltk.stem import SnowballStemmer\n",
    "\n",
    "#Importing Scikit-Learn Libraries\n",
    "from sklearn.model_selection import train_test_split\n",
    "from sklearn.feature_extraction.text import CountVectorizer\n",
    "from sklearn.naive_bayes import GaussianNB, MultinomialNB, BernoulliNB\n",
    "from sklearn.metrics import accuracy_score\n"
   ]
  },
  {
   "cell_type": "markdown",
   "id": "8da82ecd",
   "metadata": {},
   "source": [
    "# Load Dataset"
   ]
  },
  {
   "cell_type": "code",
   "execution_count": 2,
   "id": "b867d808",
   "metadata": {},
   "outputs": [
    {
     "name": "stdout",
     "output_type": "stream",
     "text": [
      "(50000, 2)\n"
     ]
    },
    {
     "data": {
      "text/html": [
       "<div>\n",
       "<style scoped>\n",
       "    .dataframe tbody tr th:only-of-type {\n",
       "        vertical-align: middle;\n",
       "    }\n",
       "\n",
       "    .dataframe tbody tr th {\n",
       "        vertical-align: top;\n",
       "    }\n",
       "\n",
       "    .dataframe thead th {\n",
       "        text-align: right;\n",
       "    }\n",
       "</style>\n",
       "<table border=\"1\" class=\"dataframe\">\n",
       "  <thead>\n",
       "    <tr style=\"text-align: right;\">\n",
       "      <th></th>\n",
       "      <th>review</th>\n",
       "      <th>sentiment</th>\n",
       "    </tr>\n",
       "  </thead>\n",
       "  <tbody>\n",
       "    <tr>\n",
       "      <th>0</th>\n",
       "      <td>One of the other reviewers has mentioned that ...</td>\n",
       "      <td>positive</td>\n",
       "    </tr>\n",
       "    <tr>\n",
       "      <th>1</th>\n",
       "      <td>A wonderful little production. &lt;br /&gt;&lt;br /&gt;The...</td>\n",
       "      <td>positive</td>\n",
       "    </tr>\n",
       "    <tr>\n",
       "      <th>2</th>\n",
       "      <td>I thought this was a wonderful way to spend ti...</td>\n",
       "      <td>positive</td>\n",
       "    </tr>\n",
       "    <tr>\n",
       "      <th>3</th>\n",
       "      <td>Basically there's a family where a little boy ...</td>\n",
       "      <td>negative</td>\n",
       "    </tr>\n",
       "    <tr>\n",
       "      <th>4</th>\n",
       "      <td>Petter Mattei's \"Love in the Time of Money\" is...</td>\n",
       "      <td>positive</td>\n",
       "    </tr>\n",
       "  </tbody>\n",
       "</table>\n",
       "</div>"
      ],
      "text/plain": [
       "                                              review sentiment\n",
       "0  One of the other reviewers has mentioned that ...  positive\n",
       "1  A wonderful little production. <br /><br />The...  positive\n",
       "2  I thought this was a wonderful way to spend ti...  positive\n",
       "3  Basically there's a family where a little boy ...  negative\n",
       "4  Petter Mattei's \"Love in the Time of Money\" is...  positive"
      ]
     },
     "execution_count": 2,
     "metadata": {},
     "output_type": "execute_result"
    }
   ],
   "source": [
    "data = pd.read_csv('IMDB-Dataset.csv')\n",
    "print(data.shape)\n",
    "data.head()"
   ]
  },
  {
   "cell_type": "code",
   "execution_count": 3,
   "id": "379d5a78",
   "metadata": {},
   "outputs": [
    {
     "name": "stdout",
     "output_type": "stream",
     "text": [
      "<class 'pandas.core.frame.DataFrame'>\n",
      "RangeIndex: 50000 entries, 0 to 49999\n",
      "Data columns (total 2 columns):\n",
      " #   Column     Non-Null Count  Dtype \n",
      "---  ------     --------------  ----- \n",
      " 0   review     50000 non-null  object\n",
      " 1   sentiment  50000 non-null  object\n",
      "dtypes: object(2)\n",
      "memory usage: 781.4+ KB\n"
     ]
    }
   ],
   "source": [
    "data.info()"
   ]
  },
  {
   "cell_type": "code",
   "execution_count": 4,
   "id": "81074c4b",
   "metadata": {},
   "outputs": [
    {
     "data": {
      "text/plain": [
       "positive    25000\n",
       "negative    25000\n",
       "Name: sentiment, dtype: int64"
      ]
     },
     "execution_count": 4,
     "metadata": {},
     "output_type": "execute_result"
    }
   ],
   "source": [
    "data.sentiment.value_counts()"
   ]
  },
  {
   "cell_type": "markdown",
   "id": "cdbd99c8",
   "metadata": {},
   "source": [
    "# Data Pre-Processing"
   ]
  },
  {
   "cell_type": "code",
   "execution_count": 5,
   "id": "73197a0f",
   "metadata": {},
   "outputs": [
    {
     "data": {
      "text/html": [
       "<div>\n",
       "<style scoped>\n",
       "    .dataframe tbody tr th:only-of-type {\n",
       "        vertical-align: middle;\n",
       "    }\n",
       "\n",
       "    .dataframe tbody tr th {\n",
       "        vertical-align: top;\n",
       "    }\n",
       "\n",
       "    .dataframe thead th {\n",
       "        text-align: right;\n",
       "    }\n",
       "</style>\n",
       "<table border=\"1\" class=\"dataframe\">\n",
       "  <thead>\n",
       "    <tr style=\"text-align: right;\">\n",
       "      <th></th>\n",
       "      <th>review</th>\n",
       "      <th>sentiment</th>\n",
       "    </tr>\n",
       "  </thead>\n",
       "  <tbody>\n",
       "    <tr>\n",
       "      <th>0</th>\n",
       "      <td>One of the other reviewers has mentioned that ...</td>\n",
       "      <td>1</td>\n",
       "    </tr>\n",
       "    <tr>\n",
       "      <th>1</th>\n",
       "      <td>A wonderful little production. &lt;br /&gt;&lt;br /&gt;The...</td>\n",
       "      <td>1</td>\n",
       "    </tr>\n",
       "    <tr>\n",
       "      <th>2</th>\n",
       "      <td>I thought this was a wonderful way to spend ti...</td>\n",
       "      <td>1</td>\n",
       "    </tr>\n",
       "    <tr>\n",
       "      <th>3</th>\n",
       "      <td>Basically there's a family where a little boy ...</td>\n",
       "      <td>0</td>\n",
       "    </tr>\n",
       "    <tr>\n",
       "      <th>4</th>\n",
       "      <td>Petter Mattei's \"Love in the Time of Money\" is...</td>\n",
       "      <td>1</td>\n",
       "    </tr>\n",
       "    <tr>\n",
       "      <th>5</th>\n",
       "      <td>Probably my all-time favorite movie, a story o...</td>\n",
       "      <td>1</td>\n",
       "    </tr>\n",
       "    <tr>\n",
       "      <th>6</th>\n",
       "      <td>I sure would like to see a resurrection of a u...</td>\n",
       "      <td>1</td>\n",
       "    </tr>\n",
       "    <tr>\n",
       "      <th>7</th>\n",
       "      <td>This show was an amazing, fresh &amp; innovative i...</td>\n",
       "      <td>0</td>\n",
       "    </tr>\n",
       "    <tr>\n",
       "      <th>8</th>\n",
       "      <td>Encouraged by the positive comments about this...</td>\n",
       "      <td>0</td>\n",
       "    </tr>\n",
       "    <tr>\n",
       "      <th>9</th>\n",
       "      <td>If you like original gut wrenching laughter yo...</td>\n",
       "      <td>1</td>\n",
       "    </tr>\n",
       "  </tbody>\n",
       "</table>\n",
       "</div>"
      ],
      "text/plain": [
       "                                              review  sentiment\n",
       "0  One of the other reviewers has mentioned that ...          1\n",
       "1  A wonderful little production. <br /><br />The...          1\n",
       "2  I thought this was a wonderful way to spend ti...          1\n",
       "3  Basically there's a family where a little boy ...          0\n",
       "4  Petter Mattei's \"Love in the Time of Money\" is...          1\n",
       "5  Probably my all-time favorite movie, a story o...          1\n",
       "6  I sure would like to see a resurrection of a u...          1\n",
       "7  This show was an amazing, fresh & innovative i...          0\n",
       "8  Encouraged by the positive comments about this...          0\n",
       "9  If you like original gut wrenching laughter yo...          1"
      ]
     },
     "execution_count": 5,
     "metadata": {},
     "output_type": "execute_result"
    }
   ],
   "source": [
    "#Replacing positive and Negative sentiments to 1 and 0 respectively.\n",
    "data.sentiment.replace('positive', 1, inplace=True)\n",
    "data.sentiment.replace('negative', 0, inplace=True)\n",
    "data.head(10)"
   ]
  },
  {
   "cell_type": "code",
   "execution_count": 6,
   "id": "4a3724fc",
   "metadata": {},
   "outputs": [
    {
     "data": {
      "text/plain": [
       "\"One of the other reviewers has mentioned that after watching just 1 Oz episode you'll be hooked. They are right, as this is exactly what happened with me.<br /><br />The first thing that struck me about Oz was its brutality and unflinching scenes of violence, which set in right from the word GO. Trust me, this is not a show for the faint hearted or timid. This show pulls no punches with regards to drugs, sex or violence. Its is hardcore, in the classic use of the word.<br /><br />It is called OZ as that is the nickname given to the Oswald Maximum Security State Penitentary. It focuses mainly on Emerald City, an experimental section of the prison where all the cells have glass fronts and face inwards, so privacy is not high on the agenda. Em City is home to many..Aryans, Muslims, gangstas, Latinos, Christians, Italians, Irish and more....so scuffles, death stares, dodgy dealings and shady agreements are never far away.<br /><br />I would say the main appeal of the show is due to the fact that it goes where other shows wouldn't dare. Forget pretty pictures painted for mainstream audiences, forget charm, forget romance...OZ doesn't mess around. The first episode I ever saw struck me as so nasty it was surreal, I couldn't say I was ready for it, but as I watched more, I developed a taste for Oz, and got accustomed to the high levels of graphic violence. Not just violence, but injustice (crooked guards who'll be sold out for a nickel, inmates who'll kill on order and get away with it, well mannered, middle class inmates being turned into prison bitches due to their lack of street skills or prison experience) Watching Oz, you may become comfortable with what is uncomfortable viewing....thats if you can get in touch with your darker side.\""
      ]
     },
     "execution_count": 6,
     "metadata": {},
     "output_type": "execute_result"
    }
   ],
   "source": [
    "data.review[0]"
   ]
  },
  {
   "cell_type": "markdown",
   "id": "eef920f2",
   "metadata": {},
   "source": [
    "# Review Cleaning"
   ]
  },
  {
   "cell_type": "markdown",
   "id": "d26be2f9",
   "metadata": {},
   "source": [
    "# 1. Remove HTML tags (‘<.*?>’)"
   ]
  },
  {
   "cell_type": "code",
   "execution_count": 7,
   "id": "a958d417",
   "metadata": {},
   "outputs": [
    {
     "data": {
      "text/plain": [
       "\"One of the other reviewers has mentioned that after watching just 1 Oz episode you'll be hooked. They are right, as this is exactly what happened with me.The first thing that struck me about Oz was its brutality and unflinching scenes of violence, which set in right from the word GO. Trust me, this is not a show for the faint hearted or timid. This show pulls no punches with regards to drugs, sex or violence. Its is hardcore, in the classic use of the word.It is called OZ as that is the nickname given to the Oswald Maximum Security State Penitentary. It focuses mainly on Emerald City, an experimental section of the prison where all the cells have glass fronts and face inwards, so privacy is not high on the agenda. Em City is home to many..Aryans, Muslims, gangstas, Latinos, Christians, Italians, Irish and more....so scuffles, death stares, dodgy dealings and shady agreements are never far away.I would say the main appeal of the show is due to the fact that it goes where other shows wouldn't dare. Forget pretty pictures painted for mainstream audiences, forget charm, forget romance...OZ doesn't mess around. The first episode I ever saw struck me as so nasty it was surreal, I couldn't say I was ready for it, but as I watched more, I developed a taste for Oz, and got accustomed to the high levels of graphic violence. Not just violence, but injustice (crooked guards who'll be sold out for a nickel, inmates who'll kill on order and get away with it, well mannered, middle class inmates being turned into prison bitches due to their lack of street skills or prison experience) Watching Oz, you may become comfortable with what is uncomfortable viewing....thats if you can get in touch with your darker side.\""
      ]
     },
     "execution_count": 7,
     "metadata": {},
     "output_type": "execute_result"
    }
   ],
   "source": [
    "def clean(text):\n",
    "    cleaned = re.compile(r'<.*?>')\n",
    "    return re.sub(cleaned, '', text)\n",
    "\n",
    "data.review = data.review.apply(clean)\n",
    "data.review[0]"
   ]
  },
  {
   "cell_type": "markdown",
   "id": "68e516c1",
   "metadata": {},
   "source": [
    "# 2. Remove Special Characters."
   ]
  },
  {
   "cell_type": "code",
   "execution_count": 9,
   "id": "799225ae",
   "metadata": {},
   "outputs": [
    {
     "data": {
      "text/plain": [
       "'Oneoftheotherreviewershasmentionedthatafterwatchingjust1OzepisodeyoullbehookedTheyarerightasthisisexactlywhathappenedwithmeThefirstthingthatstruckmeaboutOzwasitsbrutalityandunflinchingscenesofviolencewhichsetinrightfromthewordGOTrustmethisisnotashowforthefaintheartedortimidThisshowpullsnopuncheswithregardstodrugssexorviolenceItsishardcoreintheclassicuseofthewordItiscalledOZasthatisthenicknamegiventotheOswaldMaximumSecurityStatePenitentaryItfocusesmainlyonEmeraldCityanexperimentalsectionoftheprisonwhereallthecellshaveglassfrontsandfaceinwardssoprivacyisnothighontheagendaEmCityishometomanyAryansMuslimsgangstasLatinosChristiansItaliansIrishandmoresoscufflesdeathstaresdodgydealingsandshadyagreementsareneverfarawayIwouldsaythemainappealoftheshowisduetothefactthatitgoeswhereothershowswouldntdareForgetprettypicturespaintedformainstreamaudiencesforgetcharmforgetromanceOZdoesntmessaroundThefirstepisodeIeversawstruckmeassonastyitwassurrealIcouldntsayIwasreadyforitbutasIwatchedmoreIdevelopedatasteforOzandgotaccustomedtothehighlevelsofgraphicviolenceNotjustviolencebutinjusticecrookedguardswhollbesoldoutforanickelinmateswhollkillonorderandgetawaywithitwellmanneredmiddleclassinmatesbeingturnedintoprisonbitchesduetotheirlackofstreetskillsorprisonexperienceWatchingOzyoumaybecomecomfortablewithwhatisuncomfortableviewingthatsifyoucangetintouchwithyourdarkerside'"
      ]
     },
     "execution_count": 9,
     "metadata": {},
     "output_type": "execute_result"
    }
   ],
   "source": [
    "def is_special(text):\n",
    "    rem = ''\n",
    "    for i in text:\n",
    "        if i.isalnum():\n",
    "            rem = rem + i\n",
    "        else:\n",
    "            rem = rem + ' '\n",
    "    return rem\n",
    "\n",
    "data.review = data.review.apply(is_special)\n",
    "data.review[0]"
   ]
  },
  {
   "cell_type": "markdown",
   "id": "2ab50504",
   "metadata": {},
   "source": [
    "# 3. Convert to lower Case"
   ]
  },
  {
   "cell_type": "code",
   "execution_count": 10,
   "id": "66d135b7",
   "metadata": {},
   "outputs": [
    {
     "data": {
      "text/plain": [
       "'oneoftheotherreviewershasmentionedthatafterwatchingjust1ozepisodeyoullbehookedtheyarerightasthisisexactlywhathappenedwithmethefirstthingthatstruckmeaboutozwasitsbrutalityandunflinchingscenesofviolencewhichsetinrightfromthewordgotrustmethisisnotashowforthefaintheartedortimidthisshowpullsnopuncheswithregardstodrugssexorviolenceitsishardcoreintheclassicuseoftheworditiscalledozasthatisthenicknamegiventotheoswaldmaximumsecuritystatepenitentaryitfocusesmainlyonemeraldcityanexperimentalsectionoftheprisonwhereallthecellshaveglassfrontsandfaceinwardssoprivacyisnothighontheagendaemcityishometomanyaryansmuslimsgangstaslatinoschristiansitaliansirishandmoresoscufflesdeathstaresdodgydealingsandshadyagreementsareneverfarawayiwouldsaythemainappealoftheshowisduetothefactthatitgoeswhereothershowswouldntdareforgetprettypicturespaintedformainstreamaudiencesforgetcharmforgetromanceozdoesntmessaroundthefirstepisodeieversawstruckmeassonastyitwassurrealicouldntsayiwasreadyforitbutasiwatchedmoreidevelopedatasteforozandgotaccustomedtothehighlevelsofgraphicviolencenotjustviolencebutinjusticecrookedguardswhollbesoldoutforanickelinmateswhollkillonorderandgetawaywithitwellmanneredmiddleclassinmatesbeingturnedintoprisonbitchesduetotheirlackofstreetskillsorprisonexperiencewatchingozyoumaybecomecomfortablewithwhatisuncomfortableviewingthatsifyoucangetintouchwithyourdarkerside'"
      ]
     },
     "execution_count": 10,
     "metadata": {},
     "output_type": "execute_result"
    }
   ],
   "source": [
    "def to_lower(text):\n",
    "    return text.lower()\n",
    "\n",
    "data.review = data.review.apply(to_lower)\n",
    "data.review[0]"
   ]
  },
  {
   "cell_type": "markdown",
   "id": "ce9f1e72",
   "metadata": {},
   "source": [
    "# 4. Remove Stopwoards"
   ]
  },
  {
   "cell_type": "code",
   "execution_count": 12,
   "id": "b42b0cc1",
   "metadata": {},
   "outputs": [
    {
     "name": "stderr",
     "output_type": "stream",
     "text": [
      "[nltk_data] Downloading package punkt to C:\\Users\\Swaroop\n",
      "[nltk_data]     Honrao\\AppData\\Roaming\\nltk_data...\n",
      "[nltk_data]   Unzipping tokenizers\\punkt.zip.\n"
     ]
    },
    {
     "data": {
      "text/plain": [
       "True"
      ]
     },
     "execution_count": 12,
     "metadata": {},
     "output_type": "execute_result"
    }
   ],
   "source": [
    "import nltk\n",
    "nltk.download('punkt')"
   ]
  },
  {
   "cell_type": "code",
   "execution_count": 13,
   "id": "017a7ca4",
   "metadata": {},
   "outputs": [
    {
     "data": {
      "text/plain": [
       "['oneoftheotherreviewershasmentionedthatafterwatchingjust1ozepisodeyoullbehookedtheyarerightasthisisexactlywhathappenedwithmethefirstthingthatstruckmeaboutozwasitsbrutalityandunflinchingscenesofviolencewhichsetinrightfromthewordgotrustmethisisnotashowforthefaintheartedortimidthisshowpullsnopuncheswithregardstodrugssexorviolenceitsishardcoreintheclassicuseoftheworditiscalledozasthatisthenicknamegiventotheoswaldmaximumsecuritystatepenitentaryitfocusesmainlyonemeraldcityanexperimentalsectionoftheprisonwhereallthecellshaveglassfrontsandfaceinwardssoprivacyisnothighontheagendaemcityishometomanyaryansmuslimsgangstaslatinoschristiansitaliansirishandmoresoscufflesdeathstaresdodgydealingsandshadyagreementsareneverfarawayiwouldsaythemainappealoftheshowisduetothefactthatitgoeswhereothershowswouldntdareforgetprettypicturespaintedformainstreamaudiencesforgetcharmforgetromanceozdoesntmessaroundthefirstepisodeieversawstruckmeassonastyitwassurrealicouldntsayiwasreadyforitbutasiwatchedmoreidevelopedatasteforozandgotaccustomedtothehighlevelsofgraphicviolencenotjustviolencebutinjusticecrookedguardswhollbesoldoutforanickelinmateswhollkillonorderandgetawaywithitwellmanneredmiddleclassinmatesbeingturnedintoprisonbitchesduetotheirlackofstreetskillsorprisonexperiencewatchingozyoumaybecomecomfortablewithwhatisuncomfortableviewingthatsifyoucangetintouchwithyourdarkerside']"
      ]
     },
     "execution_count": 13,
     "metadata": {},
     "output_type": "execute_result"
    }
   ],
   "source": [
    "def rem_stopwords(text):\n",
    "    stop_words = set(stopwords.words('english'))\n",
    "    words = word_tokenize(text)\n",
    "    return [w for w in words if w not in stop_words]\n",
    "\n",
    "data.review = data.review.apply(rem_stopwords)\n",
    "data.review[0]"
   ]
  },
  {
   "cell_type": "markdown",
   "id": "5614e0d1",
   "metadata": {},
   "source": [
    "# 5. Stem the Words"
   ]
  },
  {
   "cell_type": "code",
   "execution_count": 14,
   "id": "4394c9d7",
   "metadata": {},
   "outputs": [
    {
     "data": {
      "text/plain": [
       "'oneoftheotherreviewershasmentionedthatafterwatchingjust1ozepisodeyoullbehookedtheyarerightasthisisexactlywhathappenedwithmethefirstthingthatstruckmeaboutozwasitsbrutalityandunflinchingscenesofviolencewhichsetinrightfromthewordgotrustmethisisnotashowforthefaintheartedortimidthisshowpullsnopuncheswithregardstodrugssexorviolenceitsishardcoreintheclassicuseoftheworditiscalledozasthatisthenicknamegiventotheoswaldmaximumsecuritystatepenitentaryitfocusesmainlyonemeraldcityanexperimentalsectionoftheprisonwhereallthecellshaveglassfrontsandfaceinwardssoprivacyisnothighontheagendaemcityishometomanyaryansmuslimsgangstaslatinoschristiansitaliansirishandmoresoscufflesdeathstaresdodgydealingsandshadyagreementsareneverfarawayiwouldsaythemainappealoftheshowisduetothefactthatitgoeswhereothershowswouldntdareforgetprettypicturespaintedformainstreamaudiencesforgetcharmforgetromanceozdoesntmessaroundthefirstepisodeieversawstruckmeassonastyitwassurrealicouldntsayiwasreadyforitbutasiwatchedmoreidevelopedatasteforozandgotaccustomedtothehighlevelsofgraphicviolencenotjustviolencebutinjusticecrookedguardswhollbesoldoutforanickelinmateswhollkillonorderandgetawaywithitwellmanneredmiddleclassinmatesbeingturnedintoprisonbitchesduetotheirlackofstreetskillsorprisonexperiencewatchingozyoumaybecomecomfortablewithwhatisuncomfortableviewingthatsifyoucangetintouchwithyourdarkersid'"
      ]
     },
     "execution_count": 14,
     "metadata": {},
     "output_type": "execute_result"
    }
   ],
   "source": [
    "def stem_text(text):\n",
    "    ss = SnowballStemmer('english')\n",
    "    return \" \".join([ss.stem(w) for w in text])\n",
    "\n",
    "data.review = data.review.apply(stem_text)\n",
    "data.review[0]"
   ]
  },
  {
   "cell_type": "code",
   "execution_count": 15,
   "id": "1f65999d",
   "metadata": {},
   "outputs": [
    {
     "data": {
      "text/html": [
       "<div>\n",
       "<style scoped>\n",
       "    .dataframe tbody tr th:only-of-type {\n",
       "        vertical-align: middle;\n",
       "    }\n",
       "\n",
       "    .dataframe tbody tr th {\n",
       "        vertical-align: top;\n",
       "    }\n",
       "\n",
       "    .dataframe thead th {\n",
       "        text-align: right;\n",
       "    }\n",
       "</style>\n",
       "<table border=\"1\" class=\"dataframe\">\n",
       "  <thead>\n",
       "    <tr style=\"text-align: right;\">\n",
       "      <th></th>\n",
       "      <th>review</th>\n",
       "      <th>sentiment</th>\n",
       "    </tr>\n",
       "  </thead>\n",
       "  <tbody>\n",
       "    <tr>\n",
       "      <th>0</th>\n",
       "      <td>oneoftheotherreviewershasmentionedthatafterwat...</td>\n",
       "      <td>1</td>\n",
       "    </tr>\n",
       "    <tr>\n",
       "      <th>1</th>\n",
       "      <td>awonderfullittleproductionthefilmingtechniquei...</td>\n",
       "      <td>1</td>\n",
       "    </tr>\n",
       "    <tr>\n",
       "      <th>2</th>\n",
       "      <td>ithoughtthiswasawonderfulwaytospendtimeonatooh...</td>\n",
       "      <td>1</td>\n",
       "    </tr>\n",
       "    <tr>\n",
       "      <th>3</th>\n",
       "      <td>basicallytheresafamilywherealittleboyjakethink...</td>\n",
       "      <td>0</td>\n",
       "    </tr>\n",
       "    <tr>\n",
       "      <th>4</th>\n",
       "      <td>pettermatteisloveinthetimeofmoneyisavisuallyst...</td>\n",
       "      <td>1</td>\n",
       "    </tr>\n",
       "  </tbody>\n",
       "</table>\n",
       "</div>"
      ],
      "text/plain": [
       "                                              review  sentiment\n",
       "0  oneoftheotherreviewershasmentionedthatafterwat...          1\n",
       "1  awonderfullittleproductionthefilmingtechniquei...          1\n",
       "2  ithoughtthiswasawonderfulwaytospendtimeonatooh...          1\n",
       "3  basicallytheresafamilywherealittleboyjakethink...          0\n",
       "4  pettermatteisloveinthetimeofmoneyisavisuallyst...          1"
      ]
     },
     "execution_count": 15,
     "metadata": {},
     "output_type": "execute_result"
    }
   ],
   "source": [
    "data.head()"
   ]
  },
  {
   "cell_type": "markdown",
   "id": "460a1a99",
   "metadata": {},
   "source": [
    "# Creating The Model"
   ]
  },
  {
   "cell_type": "markdown",
   "id": "c4f21304",
   "metadata": {},
   "source": [
    "# 1. Creating Bag of Words"
   ]
  },
  {
   "cell_type": "code",
   "execution_count": 16,
   "id": "174779fa",
   "metadata": {},
   "outputs": [
    {
     "name": "stdout",
     "output_type": "stream",
     "text": [
      "Shape of X is:  (50000, 1000)\n",
      "Shape of y is:  (50000,)\n"
     ]
    }
   ],
   "source": [
    "X = np.array(data.iloc[:, 0].values)\n",
    "y = np.array(data.sentiment.values)\n",
    "cv = CountVectorizer(max_features=1000)\n",
    "X = cv.fit_transform(data.review).toarray()\n",
    "\n",
    "print(\"Shape of X is: \", X.shape)\n",
    "print(\"Shape of y is: \", y.shape)"
   ]
  },
  {
   "cell_type": "code",
   "execution_count": 17,
   "id": "4859bc5c",
   "metadata": {},
   "outputs": [
    {
     "data": {
      "text/plain": [
       "array([[0, 0, 0, ..., 0, 0, 0],\n",
       "       [0, 0, 0, ..., 0, 0, 0],\n",
       "       [0, 0, 0, ..., 0, 0, 0],\n",
       "       ...,\n",
       "       [0, 0, 0, ..., 0, 0, 0],\n",
       "       [0, 0, 0, ..., 0, 0, 0],\n",
       "       [0, 0, 0, ..., 0, 0, 0]], dtype=int64)"
      ]
     },
     "execution_count": 17,
     "metadata": {},
     "output_type": "execute_result"
    }
   ],
   "source": [
    "X"
   ]
  },
  {
   "cell_type": "code",
   "execution_count": 18,
   "id": "e60e0e15",
   "metadata": {},
   "outputs": [
    {
     "data": {
      "text/plain": [
       "array([1, 1, 1, ..., 0, 0, 0], dtype=int64)"
      ]
     },
     "execution_count": 18,
     "metadata": {},
     "output_type": "execute_result"
    }
   ],
   "source": [
    "y"
   ]
  },
  {
   "cell_type": "markdown",
   "id": "82cda5c4",
   "metadata": {},
   "source": [
    "# Splitting Dataset into Training and Test Set"
   ]
  },
  {
   "cell_type": "code",
   "execution_count": 28,
   "id": "9d052e18",
   "metadata": {},
   "outputs": [
    {
     "name": "stdout",
     "output_type": "stream",
     "text": [
      "Training Data Set Shape is: X = (40000, 1000), y =(40000,)\n",
      "Test Data Set Shape is: X = (10000, 1000), y =(10000,)\n"
     ]
    }
   ],
   "source": [
    "X_train, X_test, y_train, y_test = train_test_split(X, y, test_size=0.2, random_state=9)\n",
    "print(\"Training Data Set Shape is: X = {}, y ={}\".format(X_train.shape, y_train.shape))\n",
    "print(\"Test Data Set Shape is: X = {}, y ={}\".format(X_test.shape, y_test.shape))"
   ]
  },
  {
   "cell_type": "markdown",
   "id": "a1a3e400",
   "metadata": {},
   "source": [
    "# Train Model using Navie Bayes"
   ]
  },
  {
   "cell_type": "code",
   "execution_count": 29,
   "id": "5abc23b2",
   "metadata": {},
   "outputs": [
    {
     "data": {
      "text/plain": [
       "BernoulliNB()"
      ]
     },
     "execution_count": 29,
     "metadata": {},
     "output_type": "execute_result"
    }
   ],
   "source": [
    "gnb = GaussianNB()\n",
    "mnb = MultinomialNB(alpha=1.0, fit_prior=True)\n",
    "bnb = BernoulliNB(alpha=1.0, fit_prior=True)\n",
    "\n",
    "#Assigning Train set to the Models\n",
    "gnb.fit(X_train, y_train)\n",
    "mnb.fit(X_train, y_train)\n",
    "bnb.fit(X_train, y_train)"
   ]
  },
  {
   "cell_type": "markdown",
   "id": "3eaca414",
   "metadata": {},
   "source": [
    "# Prediction and Model Accuracy"
   ]
  },
  {
   "cell_type": "code",
   "execution_count": 30,
   "id": "b3a6e641",
   "metadata": {},
   "outputs": [
    {
     "name": "stdout",
     "output_type": "stream",
     "text": [
      "Gaussian:  0.5066\n",
      "Multinominal:  0.5066\n",
      "Bernoulli:  0.5066\n"
     ]
    }
   ],
   "source": [
    "ypred_g = gnb.predict(X_test)\n",
    "ypred_m = mnb.predict(X_test)\n",
    "ypred_b = bnb.predict(X_test)\n",
    "\n",
    "print(\"Gaussian: \", accuracy_score(y_test, ypred_g))\n",
    "print(\"Multinominal: \", accuracy_score(y_test, ypred_m))\n",
    "print(\"Bernoulli: \", accuracy_score(y_test, ypred_b))"
   ]
  },
  {
   "cell_type": "code",
   "execution_count": 31,
   "id": "348505dc",
   "metadata": {},
   "outputs": [],
   "source": [
    "pickle.dump(bnb,open('model1.pkl','wb'))"
   ]
  },
  {
   "cell_type": "code",
   "execution_count": 33,
   "id": "038400c1",
   "metadata": {},
   "outputs": [],
   "source": [
    "rev =  \"\"\"Terrible. Complete trash. Brainless tripe. Insulting to anyone who isn't an 8 year old fan boy. Im actually pretty disgusted that this movie is making the money it is - what does it say about the people who brainlessly hand over the hard earned cash to be 'entertained' in this fashion and then come here to leave a positive 8.8 review?? Oh yes, they are morons. Its the only sensible conclusion to draw. How anyone can rate this movie amongst the pantheon of great titles is beyond me.\n",
    "\n",
    "So trying to find something constructive to say about this title is hard...I enjoyed Iron Man? Tony Stark is an inspirational character in his own movies but here he is a pale shadow of that...About the only 'hook' this movie had into me was wondering when and if Iron Man would knock Captain America out...Oh how I wished he had :( What were these other characters anyways? Useless, bickering idiots who really couldn't organise happy times in a brewery. The film was a chaotic mish mash of action elements and failed 'set pieces'...\n",
    "\n",
    "I found the villain to be quite amusing. And now I give up. This movie is not robbing any more of my time but I felt I ought to contribute to restoring the obvious fake rating and reviews this movie has been getting on IMDb.\"\"\"\n",
    "\n",
    "f1 = clean(rev)\n",
    "f2 = is_special(f1)\n",
    "f3 = to_lower(f2)\n",
    "f4 = rem_stopwords(f3)\n",
    "f5 = stem_text(f4)\n",
    "\n",
    "bow,words = [],word_tokenize(f5)\n",
    "for word in words:\n",
    "    bow.append(words.count(word))\n",
    "#np.array(bow).reshape(1,3000)\n",
    "#bow.shape\n",
    "word_dict = cv.vocabulary_\n",
    "pickle.dump(word_dict,open('bow.pkl','wb'))"
   ]
  },
  {
   "cell_type": "code",
   "execution_count": 34,
   "id": "081ef939",
   "metadata": {},
   "outputs": [],
   "source": [
    "inp = []\n",
    "for i in word_dict:\n",
    "    inp.append(f5.count(i[0]))\n",
    "y_pred = bnb.predict(np.array(inp).reshape(1,1000))"
   ]
  },
  {
   "cell_type": "code",
   "execution_count": 35,
   "id": "527241e8",
   "metadata": {},
   "outputs": [
    {
     "data": {
      "text/plain": [
       "array([0], dtype=int64)"
      ]
     },
     "execution_count": 35,
     "metadata": {},
     "output_type": "execute_result"
    }
   ],
   "source": [
    "y_pred"
   ]
  },
  {
   "cell_type": "code",
   "execution_count": null,
   "id": "b691b6c4",
   "metadata": {},
   "outputs": [],
   "source": []
  }
 ],
 "metadata": {
  "kernelspec": {
   "display_name": "Python 3 (ipykernel)",
   "language": "python",
   "name": "python3"
  },
  "language_info": {
   "codemirror_mode": {
    "name": "ipython",
    "version": 3
   },
   "file_extension": ".py",
   "mimetype": "text/x-python",
   "name": "python",
   "nbconvert_exporter": "python",
   "pygments_lexer": "ipython3",
   "version": "3.7.0"
  }
 },
 "nbformat": 4,
 "nbformat_minor": 5
}
